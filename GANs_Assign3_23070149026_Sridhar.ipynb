{
  "nbformat": 4,
  "nbformat_minor": 0,
  "metadata": {
    "colab": {
      "provenance": [],
      "authorship_tag": "ABX9TyMDCsSKE2E6UhmAQnaPhtuV",
      "include_colab_link": true
    },
    "kernelspec": {
      "name": "python3",
      "display_name": "Python 3"
    },
    "language_info": {
      "name": "python"
    }
  },
  "cells": [
    {
      "cell_type": "markdown",
      "metadata": {
        "id": "view-in-github",
        "colab_type": "text"
      },
      "source": [
        "<a href=\"https://colab.research.google.com/github/SridharSubbu/GANs/blob/main/GANs_Assign3_23070149026_Sridhar.ipynb\" target=\"_parent\"><img src=\"https://colab.research.google.com/assets/colab-badge.svg\" alt=\"Open In Colab\"/></a>"
      ]
    },
    {
      "cell_type": "code",
      "source": [
        "import numpy as np\n",
        "import tensorflow as tf\n",
        "from tensorflow import keras\n",
        "from tensorflow.keras import layers\n",
        "from tensorflow.keras.datasets import mnist"
      ],
      "metadata": {
        "id": "xSTJ09FS0jE8"
      },
      "execution_count": null,
      "outputs": []
    },
    {
      "cell_type": "code",
      "source": [
        "# Load MNIST dataset\n",
        "(x_train, _), (x_test, _) = mnist.load_data()\n",
        "x_train = x_train.astype(\"float32\") / 255.0\n",
        "x_test = x_test.astype(\"float32\") / 255.0\n",
        "\n",
        "# Reshape and add a channel dimension\n",
        "x_train = np.reshape(x_train, (-1, 28, 28, 1))\n",
        "x_test = np.reshape(x_test, (-1, 28, 28, 1))\n",
        "\n",
        "# Define VAE architecture\n",
        "latent_dim = 2"
      ],
      "metadata": {
        "id": "MF-snsZz0ppo"
      },
      "execution_count": null,
      "outputs": []
    },
    {
      "cell_type": "code",
      "source": [
        "encoder_inputs = keras.Input(shape=(28, 28, 1))\n",
        "x = layers.Conv2D(32, 3, activation=\"relu\", strides=2, padding=\"same\")(encoder_inputs)\n",
        "x = layers.Conv2D(64, 3, activation=\"relu\", strides=2, padding=\"same\")(x)\n",
        "x = layers.Flatten()(x)\n",
        "x = layers.Dense(16, activation=\"relu\")(x)"
      ],
      "metadata": {
        "id": "ky60VugP0ssc"
      },
      "execution_count": null,
      "outputs": []
    },
    {
      "cell_type": "code",
      "source": [
        "\n",
        "z_mean = layers.Dense(latent_dim, name=\"z_mean\")(x)\n",
        "z_log_var = layers.Dense(latent_dim, name=\"z_log_var\")(x)\n",
        "\n",
        "encoder = keras.Model(encoder_inputs, [z_mean, z_log_var], name=\"encoder\")\n",
        "\n",
        "latent_inputs = keras.Input(shape=(latent_dim,))\n",
        "x = layers.Dense(7 * 7 * 64, activation=\"relu\")(latent_inputs)\n",
        "x = layers.Reshape((7, 7, 64))(x)\n",
        "x = layers.Conv2DTranspose(64, 3, activation=\"relu\", strides=2, padding=\"same\")(x)\n",
        "x = layers.Conv2DTranspose(32, 3, activation=\"relu\", strides=2, padding=\"same\")(x)\n",
        "\n",
        "decoder_outputs = layers.Conv2DTranspose(1, 3, activation=\"sigmoid\", padding=\"same\")(x)\n",
        "decoder = keras.Model(latent_inputs, decoder_outputs, name=\"decoder\")"
      ],
      "metadata": {
        "id": "sKan2ii45XJ-"
      },
      "execution_count": null,
      "outputs": []
    },
    {
      "cell_type": "code",
      "source": [
        "# VAE model\n",
        "class VAE(keras.Model):\n",
        "    def __init__(self, encoder, decoder, **kwargs):\n",
        "        super(VAE, self).__init__(**kwargs)\n",
        "        self.encoder = encoder\n",
        "        self.decoder = decoder\n",
        "\n",
        "    def call(self, inputs):\n",
        "        z_mean, z_log_var = self.encoder(inputs)\n",
        "        z = self.reparameterize(z_mean, z_log_var)\n",
        "        reconstructed = self.decoder(z)\n",
        "        return reconstructed\n",
        "\n",
        "    def reparameterize(self, z_mean, z_log_var):\n",
        "        batch = tf.shape(z_mean)[0]\n",
        "        dim = tf.shape(z_mean)[1]\n",
        "        epsilon = tf.keras.backend.random_normal(shape=(batch, dim))\n",
        "        return z_mean + tf.exp(0.5 * z_log_var) * epsilon\n"
      ],
      "metadata": {
        "id": "2hTo28fV5qZq"
      },
      "execution_count": null,
      "outputs": []
    },
    {
      "cell_type": "code",
      "source": [
        "vae = VAE(encoder, decoder)\n",
        "vae.compile(optimizer=keras.optimizers.Adam())"
      ],
      "metadata": {
        "id": "syuZ0tlC5uhZ"
      },
      "execution_count": null,
      "outputs": []
    },
    {
      "cell_type": "code",
      "source": [
        "# Train the VAE\n",
        "# vae.fit(x_train, x_train, epochs=30, batch_size=128)\n",
        "\n",
        "# Compile the VAE\n",
        "vae.compile(optimizer=keras.optimizers.Adam(), loss='mean_squared_error')\n"
      ],
      "metadata": {
        "id": "caEjAk_u7IIQ"
      },
      "execution_count": null,
      "outputs": []
    },
    {
      "cell_type": "code",
      "source": [
        "# Train the VAE\n",
        "vae.fit(x_train, x_train, epochs=30, batch_size=128)\n",
        "\n",
        "# Calculate reconstruction error for test set\n",
        "x_test_pred = vae.predict(x_test)\n",
        "reconstruction_loss = tf.reduce_mean(tf.square(x_test_pred - x_test), axis=(1,2,3))\n",
        "\n",
        "# Set threshold for anomaly detection\n",
        "threshold = np.mean(reconstruction_loss) + np.std(reconstruction_loss)\n",
        "\n",
        "# Identify anomalies\n",
        "anomalies = np.where(reconstruction_loss > threshold)[0]\n",
        "\n",
        "print(\"Indices of anomalies:\", anomalies)"
      ],
      "metadata": {
        "colab": {
          "base_uri": "https://localhost:8080/"
        },
        "id": "PhwoJXDw7Bio",
        "outputId": "0109dd2d-e900-4574-a044-272eb128dea1"
      },
      "execution_count": null,
      "outputs": [
        {
          "output_type": "stream",
          "name": "stdout",
          "text": [
            "Epoch 1/30\n",
            "469/469 [==============================] - 82s 171ms/step - loss: 0.1150\n",
            "Epoch 2/30\n",
            "469/469 [==============================] - 84s 179ms/step - loss: 0.1120\n",
            "Epoch 3/30\n",
            "469/469 [==============================] - 83s 177ms/step - loss: 0.1120\n",
            "Epoch 4/30\n",
            "469/469 [==============================] - 83s 178ms/step - loss: 0.1120\n",
            "Epoch 5/30\n",
            "469/469 [==============================] - 82s 176ms/step - loss: 0.1120\n",
            "Epoch 6/30\n",
            "469/469 [==============================] - 84s 178ms/step - loss: 0.1120\n",
            "Epoch 7/30\n",
            "469/469 [==============================] - 83s 178ms/step - loss: 0.1120\n",
            "Epoch 8/30\n",
            "469/469 [==============================] - 83s 176ms/step - loss: 0.1120\n",
            "Epoch 9/30\n",
            "469/469 [==============================] - 83s 177ms/step - loss: 0.1120\n",
            "Epoch 10/30\n",
            "469/469 [==============================] - 82s 176ms/step - loss: 0.1120\n",
            "Epoch 11/30\n",
            "469/469 [==============================] - 83s 178ms/step - loss: 0.1120\n",
            "Epoch 12/30\n",
            "469/469 [==============================] - 83s 177ms/step - loss: 0.1120\n",
            "Epoch 13/30\n",
            "469/469 [==============================] - 83s 176ms/step - loss: 0.1120\n",
            "Epoch 14/30\n",
            "469/469 [==============================] - 84s 178ms/step - loss: 0.1120\n",
            "Epoch 15/30\n",
            "469/469 [==============================] - 82s 175ms/step - loss: 0.1120\n",
            "Epoch 16/30\n",
            "469/469 [==============================] - 84s 178ms/step - loss: 0.1120\n",
            "Epoch 17/30\n",
            "469/469 [==============================] - 82s 175ms/step - loss: 0.1120\n",
            "Epoch 18/30\n",
            "469/469 [==============================] - 84s 178ms/step - loss: 0.1120\n",
            "Epoch 19/30\n",
            "469/469 [==============================] - 83s 176ms/step - loss: 0.1120\n",
            "Epoch 20/30\n",
            "469/469 [==============================] - 83s 176ms/step - loss: 0.1120\n",
            "Epoch 21/30\n",
            "469/469 [==============================] - 84s 178ms/step - loss: 0.1120\n",
            "Epoch 22/30\n",
            "469/469 [==============================] - 82s 175ms/step - loss: 0.1120\n",
            "Epoch 23/30\n",
            "469/469 [==============================] - 84s 178ms/step - loss: 0.1120\n",
            "Epoch 24/30\n",
            "469/469 [==============================] - 82s 175ms/step - loss: 0.1120\n",
            "Epoch 25/30\n",
            "469/469 [==============================] - 83s 177ms/step - loss: 0.1120\n",
            "Epoch 26/30\n",
            "469/469 [==============================] - 83s 177ms/step - loss: 0.1120\n",
            "Epoch 27/30\n",
            "469/469 [==============================] - 83s 177ms/step - loss: 0.1120\n",
            "Epoch 28/30\n",
            "469/469 [==============================] - 83s 178ms/step - loss: 0.1120\n",
            "Epoch 29/30\n",
            "469/469 [==============================] - 82s 175ms/step - loss: 0.1120\n",
            "Epoch 30/30\n",
            "469/469 [==============================] - 83s 178ms/step - loss: 0.1120\n",
            "313/313 [==============================] - 5s 16ms/step\n",
            "Indices of anomalies: [   3   25   48 ... 9993 9995 9999]\n"
          ]
        }
      ]
    },
    {
      "cell_type": "code",
      "source": [
        "import matplotlib.pyplot as plt\n",
        "\n",
        "# Plot reconstruction loss\n",
        "plt.figure(figsize=(10, 6))\n",
        "plt.hist(reconstruction_loss, bins=50, color='blue', alpha=0.7)\n",
        "plt.axvline(threshold, color='red', linestyle='dashed', linewidth=2, label='Threshold')\n",
        "plt.xlabel('Reconstruction Loss')\n",
        "plt.ylabel('Frequency')\n",
        "plt.title('Distribution of Reconstruction Loss')\n",
        "plt.legend()\n",
        "plt.show()\n",
        "\n",
        "# Plot anomalies\n",
        "plt.figure(figsize=(10, 6))\n",
        "plt.imshow(x_test[anomalies[0]].reshape(-1, 28), cmap='gray')\n",
        "plt.title('Anomalies Detected')\n",
        "plt.axis('off')\n",
        "plt.show()\n"
      ],
      "metadata": {
        "colab": {
          "base_uri": "https://localhost:8080/",
          "height": 1030
        },
        "id": "zSFkGtemJ58N",
        "outputId": "21f2d2dc-7baf-4ea0-ab53-d0ae9a6dc051"
      },
      "execution_count": null,
      "outputs": [
        {
          "output_type": "display_data",
          "data": {
            "text/plain": [
              "<Figure size 1000x600 with 1 Axes>"
            ],
            "image/png": "[encoded data removed]"
          },
          "metadata": {}
        },
        {
          "output_type": "display_data",
          "data": {
            "text/plain": [
              "<Figure size 1000x600 with 1 Axes>"
            ],
            "image/png": "[encoded data removed]"
          },
          "metadata": {}
        }
      ]
    }
  ]
}